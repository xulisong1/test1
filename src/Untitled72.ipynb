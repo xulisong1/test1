{
  "nbformat": 4,
  "nbformat_minor": 0,
  "metadata": {
    "colab": {
      "name": "Untitled72.ipynb",
      "provenance": [],
      "include_colab_link": true
    },
    "kernelspec": {
      "name": "python3",
      "display_name": "Python 3"
    }
  },
  "cells": [
    {
      "cell_type": "markdown",
      "metadata": {
        "id": "view-in-github",
        "colab_type": "text"
      },
      "source": [
        "<a href=\"https://colab.research.google.com/github/xulisong1/test1/blob/master/src/Untitled72.ipynb\" target=\"_parent\"><img src=\"https://colab.research.google.com/assets/colab-badge.svg\" alt=\"Open In Colab\"/></a>"
      ]
    },
    {
      "cell_type": "code",
      "metadata": {
        "id": "tajaVtrB7Q1C",
        "colab_type": "code",
        "outputId": "60893e84-d6b8-4f2a-b7ba-e7eae095784f",
        "colab": {
          "base_uri": "https://localhost:8080/",
          "height": 35
        }
      },
      "source": [
        "1+1"
      ],
      "execution_count": 0,
      "outputs": [
        {
          "output_type": "execute_result",
          "data": {
            "text/plain": [
              "2"
            ]
          },
          "metadata": {
            "tags": []
          },
          "execution_count": 3
        }
      ]
    },
    {
      "cell_type": "markdown",
      "metadata": {
        "id": "qmQiwYPC7drK",
        "colab_type": "text"
      },
      "source": [
        "test for colab\n",
        "$\\phi(x) = $\n",
        "$$\\phi(x) = \\frac{1}{\\sqrt{2\\pi}} e^{-1/x^2}.$$"
      ]
    },
    {
      "cell_type": "code",
      "metadata": {
        "id": "-sbvz7V79tP9",
        "colab_type": "code",
        "outputId": "b9e1bd9e-8691-45d5-c982-7fc5585d7dc0",
        "colab": {
          "base_uri": "https://localhost:8080/",
          "height": 304
        }
      },
      "source": [
        "'''===========\n",
        "This is python code\n",
        "=============='''\n",
        "print('--->>> hello world! Here is the sin graph <<<-----')\n",
        "\n",
        "import numpy as np\n",
        "import matplotlib.pyplot as plt\n",
        "x = np.linspace(-3, 3, 100)\n",
        "plt.plot(x, np.sin(x));\n",
        "print('this is the end')"
      ],
      "execution_count": 1,
      "outputs": [
        {
          "output_type": "stream",
          "text": [
            "--->>> hello world! Here is the sin graph <<<-----\n",
            "this is the end\n"
          ],
          "name": "stdout"
        },
        {
          "output_type": "display_data",
          "data": {
            "image/png": "[encoded data removed]",
            "text/plain": [
              "<Figure size 432x288 with 1 Axes>"
            ]
          },
          "metadata": {
            "tags": []
          }
        }
      ]
    },
    {
      "cell_type": "markdown",
      "metadata": {
        "id": "2FHBdhT08S8F",
        "colab_type": "text"
      },
      "source": [
        ""
      ]
    },
    {
      "cell_type": "markdown",
      "metadata": {
        "id": "rK7Xhaec8Qdz",
        "colab_type": "text"
      },
      "source": [
        ""
      ]
    }
  ]
}