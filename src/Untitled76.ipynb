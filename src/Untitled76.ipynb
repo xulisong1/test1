{
  "nbformat": 4,
  "nbformat_minor": 0,
  "metadata": {
    "colab": {
      "name": "Untitled76.ipynb",
      "provenance": [],
      "include_colab_link": true
    },
    "kernelspec": {
      "name": "python3",
      "display_name": "Python 3"
    },
    "accelerator": "GPU"
  },
  "cells": [
    {
      "cell_type": "markdown",
      "metadata": {
        "id": "view-in-github",
        "colab_type": "text"
      },
      "source": [
        "<a href=\"https://colab.research.google.com/github/xulisong1/test1/blob/master/src/Untitled76.ipynb\" target=\"_parent\"><img src=\"https://colab.research.google.com/assets/colab-badge.svg\" alt=\"Open In Colab\"/></a>"
      ]
    },
    {
      "cell_type": "code",
      "metadata": {
        "id": "T2Hr0tDf4sfH",
        "colab_type": "code",
        "colab": {
          "base_uri": "https://localhost:8080/",
          "height": 35
        },
        "outputId": "2345ae72-e655-441c-b75f-6d2e78a94054"
      },
      "source": [
        "import tensorflow as tf\n",
        "device_name = tf.test.gpu_device_name()\n",
        "if device_name != '/device:GPU:0':\n",
        "  raise SystemError('GPU device not found')\n",
        "print('Found GPU at: {}'.format(device_name))"
      ],
      "execution_count": 1,
      "outputs": [
        {
          "output_type": "stream",
          "text": [
            "Found GPU at: /device:GPU:0\n"
          ],
          "name": "stdout"
        }
      ]
    },
    {
      "cell_type": "code",
      "metadata": {
        "id": "ATGbcgFj7vz9",
        "colab_type": "code",
        "colab": {}
      },
      "source": [
        "import tensorflow as tf\n",
        "import tensorflow.linalg as tfla\n",
        "import numpy as np\n",
        "import numpy.linalg as npla"
      ],
      "execution_count": 0,
      "outputs": []
    },
    {
      "cell_type": "code",
      "metadata": {
        "id": "VCr68OgT8BbM",
        "colab_type": "code",
        "colab": {}
      },
      "source": [
        "sess = tf.Session()"
      ],
      "execution_count": 0,
      "outputs": []
    },
    {
      "cell_type": "code",
      "metadata": {
        "id": "j3m31blOCxVD",
        "colab_type": "code",
        "colab": {
          "base_uri": "https://localhost:8080/",
          "height": 35
        },
        "outputId": "11a5cb86-3450-41a2-88ba-17a42fb280a9"
      },
      "source": [
        "#build a graph\n",
        "a = tf.constant(5.0)\n",
        "b = tf.constant(6.0)\n",
        "c = a * b\n",
        "\n",
        "\n",
        "\n",
        "#launch a graph in a session.\n",
        "sess = tf.compat.v1.Session()\n",
        "\n",
        "# evaluate the tensor 'c'.\n",
        "print(sess.run(c))\n"
      ],
      "execution_count": 15,
      "outputs": [
        {
          "output_type": "stream",
          "text": [
            "30.0\n"
          ],
          "name": "stdout"
        }
      ]
    },
    {
      "cell_type": "code",
      "metadata": {
        "id": "NrycI73gJba2",
        "colab_type": "code",
        "colab": {}
      },
      "source": [
        "sess.close()"
      ],
      "execution_count": 0,
      "outputs": []
    },
    {
      "cell_type": "code",
      "metadata": {
        "id": "0yd-uFgtMnWb",
        "colab_type": "code",
        "colab": {}
      },
      "source": [
        "sess = tf.compat.v1.Session(config = tf.compat.v1.ConfigProto(allow_soft_placement = True, log_device_placement = True))"
      ],
      "execution_count": 0,
      "outputs": []
    },
    {
      "cell_type": "code",
      "metadata": {
        "id": "DtfzcVIRPTAg",
        "colab_type": "code",
        "colab": {
          "base_uri": "https://localhost:8080/",
          "height": 69
        },
        "outputId": "97a6a285-3649-4530-c5a0-47380db050da"
      },
      "source": [
        "a = tf.constant([[1.,-1.,0],[0.,2.,0.],[0.,0.,1.]])\n",
        "sess.run(a)"
      ],
      "execution_count": 22,
      "outputs": [
        {
          "output_type": "execute_result",
          "data": {
            "text/plain": [
              "array([[ 1., -1.,  0.],\n",
              "       [ 0.,  2.,  0.],\n",
              "       [ 0.,  0.,  1.]], dtype=float32)"
            ]
          },
          "metadata": {
            "tags": []
          },
          "execution_count": 22
        }
      ]
    },
    {
      "cell_type": "code",
      "metadata": {
        "id": "glW9Fxdls3IF",
        "colab_type": "code",
        "colab": {
          "base_uri": "https://localhost:8080/",
          "height": 69
        },
        "outputId": "0cdbc23b-9531-4c32-e5dd-7ce3b358add9"
      },
      "source": [
        "#identity matrix\n",
        "id3 = tf.eye(3)\n",
        "sess.run(id3)"
      ],
      "execution_count": 21,
      "outputs": [
        {
          "output_type": "execute_result",
          "data": {
            "text/plain": [
              "array([[1., 0., 0.],\n",
              "       [0., 1., 0.],\n",
              "       [0., 0., 1.]], dtype=float32)"
            ]
          },
          "metadata": {
            "tags": []
          },
          "execution_count": 21
        }
      ]
    },
    {
      "cell_type": "code",
      "metadata": {
        "id": "YobqDO7ot5lk",
        "colab_type": "code",
        "colab": {
          "base_uri": "https://localhost:8080/",
          "height": 69
        },
        "outputId": "f8269c06-2cfa-4fae-c244-20717f65fbd8"
      },
      "source": [
        "#transpose\n",
        "a_trans = tfla.transpose(a)\n",
        "sess.run(a_trans)"
      ],
      "execution_count": 23,
      "outputs": [
        {
          "output_type": "execute_result",
          "data": {
            "text/plain": [
              "array([[ 1.,  0.,  0.],\n",
              "       [-1.,  2.,  0.],\n",
              "       [ 0.,  0.,  1.]], dtype=float32)"
            ]
          },
          "metadata": {
            "tags": []
          },
          "execution_count": 23
        }
      ]
    },
    {
      "cell_type": "code",
      "metadata": {
        "id": "zUwWYFP4ujF_",
        "colab_type": "code",
        "colab": {
          "base_uri": "https://localhost:8080/",
          "height": 69
        },
        "outputId": "65981486-bb15-4db8-b609-f1e6de897d97"
      },
      "source": [
        "#multiplication\n",
        "prod = a @ a_trans\n",
        "sess.run(prod)"
      ],
      "execution_count": 24,
      "outputs": [
        {
          "output_type": "execute_result",
          "data": {
            "text/plain": [
              "array([[ 2., -2.,  0.],\n",
              "       [-2.,  4.,  0.],\n",
              "       [ 0.,  0.,  1.]], dtype=float32)"
            ]
          },
          "metadata": {
            "tags": []
          },
          "execution_count": 24
        }
      ]
    },
    {
      "cell_type": "code",
      "metadata": {
        "id": "dHygAN6y0Cxg",
        "colab_type": "code",
        "colab": {
          "base_uri": "https://localhost:8080/",
          "height": 69
        },
        "outputId": "04c16613-4397-4c6b-8f20-d1fa093a7b91"
      },
      "source": [
        "prod1 = a @ id3\n",
        "sess.run(prod1)"
      ],
      "execution_count": 26,
      "outputs": [
        {
          "output_type": "execute_result",
          "data": {
            "text/plain": [
              "array([[ 1., -1.,  0.],\n",
              "       [ 0.,  2.,  0.],\n",
              "       [ 0.,  0.,  1.]], dtype=float32)"
            ]
          },
          "metadata": {
            "tags": []
          },
          "execution_count": 26
        }
      ]
    },
    {
      "cell_type": "code",
      "metadata": {
        "id": "NXPx9PPnyRXL",
        "colab_type": "code",
        "colab": {
          "base_uri": "https://localhost:8080/",
          "height": 69
        },
        "outputId": "0cee9067-654a-40d7-ed52-172859d084fa"
      },
      "source": [
        "soln = tfla.solve(a, id3)\n",
        "sess.run(soln)"
      ],
      "execution_count": 25,
      "outputs": [
        {
          "output_type": "execute_result",
          "data": {
            "text/plain": [
              "array([[1. , 0.5, 0. ],\n",
              "       [0. , 0.5, 0. ],\n",
              "       [0. , 0. , 1. ]], dtype=float32)"
            ]
          },
          "metadata": {
            "tags": []
          },
          "execution_count": 25
        }
      ]
    },
    {
      "cell_type": "code",
      "metadata": {
        "id": "zeFlwf7r1uDe",
        "colab_type": "code",
        "colab": {
          "base_uri": "https://localhost:8080/",
          "height": 35
        },
        "outputId": "942e6a5c-7154-4872-a283-e71a24de7467"
      },
      "source": [
        "#determinant\n",
        "a_det = tfla.det(a)\n",
        "sess.run(a_det)"
      ],
      "execution_count": 27,
      "outputs": [
        {
          "output_type": "execute_result",
          "data": {
            "text/plain": [
              "2.0"
            ]
          },
          "metadata": {
            "tags": []
          },
          "execution_count": 27
        }
      ]
    },
    {
      "cell_type": "code",
      "metadata": {
        "id": "kdadcI5X2KNS",
        "colab_type": "code",
        "colab": {
          "base_uri": "https://localhost:8080/",
          "height": 69
        },
        "outputId": "267cdb79-9a79-48f8-8023-688a50edee73"
      },
      "source": [
        "#inverse\n",
        "a_inv = tfla.inv(a)\n",
        "sess.run(a_inv)"
      ],
      "execution_count": 28,
      "outputs": [
        {
          "output_type": "execute_result",
          "data": {
            "text/plain": [
              "array([[1. , 0.5, 0. ],\n",
              "       [0. , 0.5, 0. ],\n",
              "       [0. , 0. , 1. ]], dtype=float32)"
            ]
          },
          "metadata": {
            "tags": []
          },
          "execution_count": 28
        }
      ]
    },
    {
      "cell_type": "code",
      "metadata": {
        "id": "tS7cFu-r2ojS",
        "colab_type": "code",
        "colab": {
          "base_uri": "https://localhost:8080/",
          "height": 35
        },
        "outputId": "4f913b30-f3ac-4208-d2f1-58306470aeb5"
      },
      "source": [
        "#change tensor to numpy array\n",
        "\n",
        "a_np = sess.run(a)\n",
        "\n",
        "type(a_np)"
      ],
      "execution_count": 29,
      "outputs": [
        {
          "output_type": "execute_result",
          "data": {
            "text/plain": [
              "numpy.ndarray"
            ]
          },
          "metadata": {
            "tags": []
          },
          "execution_count": 29
        }
      ]
    },
    {
      "cell_type": "code",
      "metadata": {
        "id": "QtFajPGC26Gc",
        "colab_type": "code",
        "colab": {
          "base_uri": "https://localhost:8080/",
          "height": 87
        },
        "outputId": "cd6b1737-33a3-4239-efe7-4882c8c51d27"
      },
      "source": [
        "a_eig_val, a_eig_vec = npla.eig(a_np)\n",
        "print(a_eig_val)\n",
        "print(a_eig_vec)"
      ],
      "execution_count": 30,
      "outputs": [
        {
          "output_type": "stream",
          "text": [
            "[1. 2. 1.]\n",
            "[[ 1.         -0.70710677  0.        ]\n",
            " [ 0.          0.70710677  0.        ]\n",
            " [ 0.          0.          1.        ]]\n"
          ],
          "name": "stdout"
        }
      ]
    }
  ]
}